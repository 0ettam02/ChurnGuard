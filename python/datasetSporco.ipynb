{
 "cells": [
  {
   "cell_type": "code",
   "execution_count": null,
   "id": "51d82046",
   "metadata": {},
   "outputs": [
    {
     "data": {
      "text/plain": [
       "'dataset_B_alt.csv'"
      ]
     },
     "execution_count": 6,
     "metadata": {},
     "output_type": "execute_result"
    }
   ],
   "source": [
    "import random\n",
    "import pandas as pd\n",
    "from datetime import datetime, timedelta\n",
    "\n",
    "# Funzioni di supporto\n",
    "def random_date(start, end):\n",
    "    return (start + timedelta(days=random.randint(0, (end - start).days))).strftime('%Y-%m-%d')\n",
    "\n",
    "def random_last_checkin():\n",
    "    formats = ['%Y/%m/%d', '%d-%m-%Y', '%d/%m/%Y', '%d-%m-%Y']\n",
    "    date = datetime.today() - timedelta(days=random.randint(0, 30))\n",
    "    return date.strftime(random.choice(formats))\n",
    "\n",
    "# Dati di base\n",
    "sex_options = ['M', 'F']\n",
    "membership_options = ['Basic', 'Premium', 'Basic Plus', 'Premium Plus', 'Standard']\n",
    "fee_options = ['10 USD', '12 USD', '15 USD', '18 USD', '20 EUR', '18.5 EUR', '22 EUR']\n",
    "\n",
    "# Creazione del dataset\n",
    "df_b_alt = {\n",
    "    \"Client_ID\": [f\"C{str(i+1).zfill(3)}\" for i in range(100)],\n",
    "    \"Sex\": [random.choice(sex_options) for _ in range(100)],\n",
    "    \"Years\": [random.randint(18, 60) for _ in range(100)],\n",
    "    \"JoinDate\": [random_date(datetime(2022,1,1), datetime(2023,7,1)) for _ in range(100)],\n",
    "    \"MembershipType\": [random.choice(membership_options) for _ in range(100)],\n",
    "    \"MonthlyFee\": [random.choice(fee_options) for _ in range(100)],\n",
    "    \"LastCheckin\": [random_last_checkin() for _ in range(100)],\n",
    "    \"WeeklyAvgVisits\": [round(random.uniform(1, 5), 1) for _ in range(100)],\n",
    "    \"DaysSinceLastCheckin\": [random.randint(0, 30) for _ in range(100)],\n",
    "    \"Exited\": [random.choice(['Yes', 'No']) for _ in range(100)]\n",
    "}\n",
    "\n",
    "# Salvataggio del nuovo CSV\n",
    "# Conversione in DataFrame\n",
    "df_b_alt = pd.DataFrame(df_b_alt)\n",
    "\n",
    "# Salvataggio in CSV\n",
    "file_path_alt = 'dataset_B_alt.csv'\n",
    "df_b_alt.to_csv(file_path_alt, index=False)\n",
    "\n",
    "file_path_alt\n",
    "\n"
   ]
  },
  {
   "cell_type": "code",
   "execution_count": 7,
   "id": "cd83bcb9",
   "metadata": {},
   "outputs": [
    {
     "name": "stdout",
     "output_type": "stream",
     "text": [
      "  customer_id sesso  età data_iscrizione tipo_abbonamento  prezzo_abbonamento  \\\n",
      "0    CUST0001     M   29      2023-05-08          mensile                  22   \n",
      "1    CUST0002     M   34      2023-08-15          mensile                  18   \n",
      "2    CUST0003     M   43      2022-05-24          mensile                  12   \n",
      "3    CUST0004     M   19      2023-08-15      trimestrale                  32   \n",
      "4    CUST0005     M   32      2022-06-21          mensile                  22   \n",
      "\n",
      "  ultima_presenza  media_presenze_sett  giorni_da_ultima_presenza  churn  \n",
      "0      17-04-2025                  3.4                         34      1  \n",
      "1      04/07/2025                  3.3                         57      1  \n",
      "2      2025/05/26                  4.9                         13      0  \n",
      "3      15/06/2025                  1.7                         32      1  \n",
      "4      2025/06/22                  1.3                         55      1  \n"
     ]
    }
   ],
   "source": [
    "import random\n",
    "import pandas as pd\n",
    "from datetime import datetime, timedelta\n",
    "\n",
    "# Funzioni di supporto\n",
    "def random_date(start, end):\n",
    "    return (start + timedelta(days=random.randint(0, (end - start).days))).strftime('%Y-%m-%d')\n",
    "\n",
    "def random_last_checkin():\n",
    "    formats = ['%Y/%m/%d', '%d-%m-%Y', '%d/%m/%Y']\n",
    "    date = datetime.today() - timedelta(days=random.randint(0, 365))\n",
    "    return date.strftime(random.choice(formats))\n",
    "\n",
    "# Abbonamenti e prezzi\n",
    "membership_options = {\n",
    "    'mensile': [10, 12, 15, 18, 22],\n",
    "    'trimestrale': [28, 32, 40, 50, 60],\n",
    "    'annuale': [100, 120, 150, 180, 220]\n",
    "}\n",
    "\n",
    "# Creazione dataset\n",
    "data = []\n",
    "for i in range(1, 101):\n",
    "    tipo_abbonamento = random.choice(list(membership_options.keys()))\n",
    "    prezzo = random.choice(membership_options[tipo_abbonamento])\n",
    "    weekly_visits = round(random.uniform(1, 5), 1)\n",
    "    days_since_last = random.randint(0, 60)\n",
    "    \n",
    "    # Logica semplice per churn: bassa frequenza o giorni elevati\n",
    "    if weekly_visits < 2 or days_since_last > 30:\n",
    "        churn = 1\n",
    "    else:\n",
    "        churn = 0\n",
    "    \n",
    "    data.append({\n",
    "        'customer_id': f'CUST{str(i).zfill(4)}',\n",
    "        'sesso': random.choice(['M','F']),\n",
    "        'età': random.randint(18, 60),\n",
    "        'data_iscrizione': random_date(datetime(2022,1,1), datetime(2023,12,31)),\n",
    "        'tipo_abbonamento': tipo_abbonamento,\n",
    "        'prezzo_abbonamento': prezzo,\n",
    "        'ultima_presenza': random_last_checkin(),\n",
    "        'media_presenze_sett': weekly_visits,\n",
    "        'giorni_da_ultima_presenza': days_since_last,\n",
    "        'churn': churn\n",
    "    })\n",
    "\n",
    "df = pd.DataFrame(data)\n",
    "\n",
    "# Salvataggio CSV\n",
    "df.to_csv('dataset_vario.csv', index=False)\n",
    "print(df.head())\n"
   ]
  }
 ],
 "metadata": {
  "kernelspec": {
   "display_name": "base",
   "language": "python",
   "name": "python3"
  },
  "language_info": {
   "codemirror_mode": {
    "name": "ipython",
    "version": 3
   },
   "file_extension": ".py",
   "mimetype": "text/x-python",
   "name": "python",
   "nbconvert_exporter": "python",
   "pygments_lexer": "ipython3",
   "version": "3.12.7"
  }
 },
 "nbformat": 4,
 "nbformat_minor": 5
}
